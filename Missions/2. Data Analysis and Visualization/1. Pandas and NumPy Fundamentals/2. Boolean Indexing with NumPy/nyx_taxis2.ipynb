{
 "cells": [
  {
   "cell_type": "code",
   "execution_count": 1,
   "metadata": {},
   "outputs": [],
   "source": [
    "from csv import reader\n",
    "opened = open('/Users/Abrar/Desktop/DataQuest/Datasets/nyc_taxis.csv')\n",
    "read = reader(opened)\n",
    "potus = list(read)"
   ]
  },
  {
   "cell_type": "code",
   "execution_count": 5,
   "metadata": {},
   "outputs": [
    {
     "data": {
      "text/plain": [
       "(89561, 15)"
      ]
     },
     "execution_count": 5,
     "metadata": {},
     "output_type": "execute_result"
    }
   ],
   "source": [
    "import numpy as np\n",
    "taxi = np.genfromtxt('/Users/Abrar/Desktop/DataQuest/Datasets/nyc_taxis.csv', delimiter=',')\n",
    "taxi_shape = taxi.shape\n",
    "taxi_shape"
   ]
  },
  {
   "cell_type": "code",
   "execution_count": 6,
   "metadata": {},
   "outputs": [
    {
     "data": {
      "text/plain": [
       "(89560, 15)"
      ]
     },
     "execution_count": 6,
     "metadata": {},
     "output_type": "execute_result"
    }
   ],
   "source": [
    "taxi = np.genfromtxt('/Users/Abrar/Desktop/DataQuest/Datasets/nyc_taxis.csv', delimiter=',', skip_header=1)\n",
    "taxi_shape = taxi.shape\n",
    "taxi_shape"
   ]
  },
  {
   "cell_type": "code",
   "execution_count": 7,
   "metadata": {},
   "outputs": [],
   "source": [
    "a = np.array([1, 2, 3, 4, 5])\n",
    "b = np.array([\"blue\", \"blue\", \"red\", \"blue\"])\n",
    "c = np.array([80.0, 103.4, 96.9, 200.3])\n",
    "a_bool = a < 3\n",
    "b_bool = b == \"blue\"\n",
    "c_bool = c > 100"
   ]
  },
  {
   "cell_type": "code",
   "execution_count": 14,
   "metadata": {},
   "outputs": [
    {
     "name": "stdout",
     "output_type": "stream",
     "text": [
      "January rides = 13481 \n",
      "February rides =  13333\n"
     ]
    }
   ],
   "source": [
    "pickup_month = taxi[:,1]\n",
    "\n",
    "january_bool = pickup_month == 1\n",
    "january = pickup_month[january_bool]\n",
    "january_rides = january.shape[0]\n",
    "february_bool = pickup_month == 2\n",
    "february = pickup_month[february_bool]\n",
    "february_rides = february.shape[0]\n",
    "print(\"January rides =\", january_rides,\n",
    "    \"\\nFebruary rides = \", february_rides)\n",
    "      "
   ]
  },
  {
   "cell_type": "code",
   "execution_count": 17,
   "metadata": {},
   "outputs": [],
   "source": [
    "tip_amount = taxi[:,12]\n",
    "tip_bool = tip_amount > 50\n",
    "top_tips = taxi[tip_bool, 5:14]"
   ]
  },
  {
   "cell_type": "code",
   "execution_count": 18,
   "metadata": {},
   "outputs": [],
   "source": [
    "# this creates a copy of our taxi ndarray\n",
    "taxi_modified = taxi.copy()\n",
    "taxi_modified[28214,5] = 1\n",
    "taxi_modified[:,0] = 16\n",
    "taxi_modified[1800:1802,7] = taxi_modified[:,7].mean()"
   ]
  },
  {
   "cell_type": "code",
   "execution_count": 19,
   "metadata": {},
   "outputs": [],
   "source": [
    "# this creates a copy of our taxi ndarray\n",
    "taxi_copy = taxi.copy()\n",
    "total_amount = taxi_copy[:,13]\n",
    "total_amount[total_amount < 0] = 0"
   ]
  },
  {
   "cell_type": "code",
   "execution_count": 20,
   "metadata": {},
   "outputs": [
    {
     "name": "stdout",
     "output_type": "stream",
     "text": [
      "[[2.016e+03 1.000e+00 1.000e+00 ... 6.999e+01 1.000e+00 0.000e+00]\n",
      " [2.016e+03 1.000e+00 1.000e+00 ... 5.430e+01 1.000e+00 0.000e+00]\n",
      " [2.016e+03 1.000e+00 1.000e+00 ... 3.780e+01 2.000e+00 0.000e+00]\n",
      " ...\n",
      " [2.016e+03 6.000e+00 3.000e+01 ... 6.334e+01 1.000e+00 0.000e+00]\n",
      " [2.016e+03 6.000e+00 3.000e+01 ... 4.475e+01 1.000e+00 0.000e+00]\n",
      " [2.016e+03 6.000e+00 3.000e+01 ... 5.484e+01 2.000e+00 0.000e+00]]\n"
     ]
    }
   ],
   "source": [
    "# create a new column filled with `0`.\n",
    "zeros = np.zeros([taxi.shape[0], 1])\n",
    "taxi_modified = np.concatenate([taxi, zeros], axis=1)\n",
    "print(taxi_modified)\n",
    "taxi_modified[taxi_modified[:, 5] == 2, 15] = 1\n",
    "taxi_modified[taxi_modified[:, 5] == 3, 15] = 1\n",
    "taxi_modified[taxi_modified[:, 5] == 5, 15] = 1"
   ]
  },
  {
   "cell_type": "code",
   "execution_count": 21,
   "metadata": {},
   "outputs": [],
   "source": [
    "jfk = taxi[taxi[:,6] == 2]\n",
    "jfk_count = jfk.shape[0]\n",
    "\n",
    "laguardia = taxi[taxi[:,6] == 3]\n",
    "laguardia_count = laguardia.shape[0]\n",
    "\n",
    "newark = taxi[taxi[:,6] == 5]\n",
    "newark_count = newark.shape[0]"
   ]
  },
  {
   "cell_type": "code",
   "execution_count": 23,
   "metadata": {},
   "outputs": [
    {
     "data": {
      "text/plain": [
       "48.98131853260262"
      ]
     },
     "execution_count": 23,
     "metadata": {},
     "output_type": "execute_result"
    }
   ],
   "source": [
    "trip_mph = taxi[:,7] / (taxi[:,8] / 3600)\n",
    "cleaned_taxi = taxi[trip_mph < 100]\n",
    "\n",
    "mean_distance = cleaned_taxi[:,7].mean()\n",
    "mean_length = cleaned_taxi[:,8].mean()\n",
    "mean_total_amount = cleaned_taxi[:,13].mean()\n",
    "mean_total_amount"
   ]
  },
  {
   "cell_type": "code",
   "execution_count": null,
   "metadata": {},
   "outputs": [],
   "source": []
  }
 ],
 "metadata": {
  "kernelspec": {
   "display_name": "Python 3",
   "language": "python",
   "name": "python3"
  },
  "language_info": {
   "codemirror_mode": {
    "name": "ipython",
    "version": 3
   },
   "file_extension": ".py",
   "mimetype": "text/x-python",
   "name": "python",
   "nbconvert_exporter": "python",
   "pygments_lexer": "ipython3",
   "version": "3.7.3"
  }
 },
 "nbformat": 4,
 "nbformat_minor": 2
}
