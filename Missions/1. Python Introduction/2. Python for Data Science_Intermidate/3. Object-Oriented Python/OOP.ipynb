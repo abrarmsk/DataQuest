{
 "cells": [
  {
   "cell_type": "code",
   "execution_count": 1,
   "metadata": {},
   "outputs": [
    {
     "name": "stdout",
     "output_type": "stream",
     "text": [
      "<class 'list'>\n",
      "<class 'str'>\n",
      "<class 'dict'>\n"
     ]
    }
   ],
   "source": [
    "l = [1, 2, 3]\n",
    "s = \"string\"\n",
    "d = {\"a\": 1, \"b\": 2}\n",
    "\n",
    "print(type(l))\n",
    "print(type(s))\n",
    "print(type(d))"
   ]
  },
  {
   "cell_type": "code",
   "execution_count": 2,
   "metadata": {},
   "outputs": [],
   "source": [
    "## to avoid SyntaxError\n",
    "class MyClass():\n",
    "    pass"
   ]
  },
  {
   "cell_type": "code",
   "execution_count": 3,
   "metadata": {},
   "outputs": [
    {
     "name": "stdout",
     "output_type": "stream",
     "text": [
      "<class '__main__.MyClass'>\n"
     ]
    }
   ],
   "source": [
    "class MyClass():\n",
    "    pass\n",
    "\n",
    "my_instance = MyClass()\n",
    "print(type(my_instance))"
   ]
  },
  {
   "cell_type": "code",
   "execution_count": 6,
   "metadata": {},
   "outputs": [
    {
     "data": {
      "text/plain": [
       "'This is my first method'"
      ]
     },
     "execution_count": 6,
     "metadata": {},
     "output_type": "execute_result"
    }
   ],
   "source": [
    "class MyClass():\n",
    "    pass\n",
    "\n",
    "    def first_method(self):\n",
    "        return \"This is my first method\"\n",
    "\n",
    "\n",
    "my_instance = MyClass()\n",
    "result = my_instance.first_method()\n",
    "result"
   ]
  },
  {
   "cell_type": "code",
   "execution_count": 7,
   "metadata": {},
   "outputs": [
    {
     "data": {
      "text/plain": [
       "[1, 2, 3]"
      ]
     },
     "execution_count": 7,
     "metadata": {},
     "output_type": "execute_result"
    }
   ],
   "source": [
    "class MyClass:\n",
    "    \n",
    "    def first_method(self):\n",
    "        return \"This is my first method\"\n",
    "    \n",
    "    # Add method here\n",
    "    def return_list(self, input_list):\n",
    "        return input_list\n",
    "\n",
    "my_instance = MyClass()\n",
    "result = my_instance.return_list([1, 2, 3])\n",
    "result"
   ]
  },
  {
   "cell_type": "code",
   "execution_count": 8,
   "metadata": {},
   "outputs": [
    {
     "name": "stdout",
     "output_type": "stream",
     "text": [
      "[1, 2, 3, 4, 5]\n"
     ]
    }
   ],
   "source": [
    "class MyList:\n",
    "\n",
    "    def __init__(self, initial_data):\n",
    "        self.data = initial_data\n",
    "\n",
    "my_list = MyList([1, 2, 3, 4, 5])\n",
    "print(my_list.data)"
   ]
  },
  {
   "cell_type": "code",
   "execution_count": 9,
   "metadata": {},
   "outputs": [
    {
     "name": "stdout",
     "output_type": "stream",
     "text": [
      "[1, 2, 3, 4, 5]\n",
      "[1, 2, 3, 4, 5, 6]\n"
     ]
    }
   ],
   "source": [
    "class MyList:\n",
    "\n",
    "    def __init__(self, initial_data):\n",
    "        self.data = initial_data\n",
    "        \n",
    "    # Add method here\n",
    "# Answer\n",
    "\n",
    "class MyList:\n",
    "\n",
    "    def __init__(self, initial_data):\n",
    "        self.data = initial_data\n",
    "\n",
    "    # Add method here\n",
    "    def append(self, new_item):\n",
    "        self.data = self.data + [new_item]\n",
    "\n",
    "my_list = MyList([1, 2, 3, 4, 5])\n",
    "print(my_list.data)\n",
    "\n",
    "my_list.append(6)\n",
    "print(my_list.data)"
   ]
  },
  {
   "cell_type": "code",
   "execution_count": 10,
   "metadata": {},
   "outputs": [
    {
     "name": "stdout",
     "output_type": "stream",
     "text": [
      "5\n",
      "6\n"
     ]
    }
   ],
   "source": [
    "class MyList:\n",
    "\n",
    "    def __init__(self, initial_data):\n",
    "        self.data = initial_data\n",
    "        # Calculate the initial length\n",
    "        self.length = 0\n",
    "        for item in self.data:\n",
    "            self.length += 1\n",
    "\n",
    "    def append(self, new_item):\n",
    "        self.data = self.data + [new_item]\n",
    "        # Update the length here\n",
    "class MyList:\n",
    "\n",
    "    def __init__(self, initial_data):\n",
    "        self.data = initial_data\n",
    "        # Calculate the initial length\n",
    "        self.length = 0\n",
    "        for item in self.data:\n",
    "            self.length += 1\n",
    "\n",
    "    def append(self, new_item):\n",
    "        self.data = self.data + [new_item]\n",
    "        # Update the length here\n",
    "        self.length += 1\n",
    "\n",
    "my_list = MyList([1, 1, 2, 3, 5])\n",
    "print(my_list.length)\n",
    "\n",
    "my_list.append(8)\n",
    "print(my_list.length)"
   ]
  },
  {
   "cell_type": "code",
   "execution_count": null,
   "metadata": {},
   "outputs": [],
   "source": []
  }
 ],
 "metadata": {
  "kernelspec": {
   "display_name": "Python 3",
   "language": "python",
   "name": "python3"
  },
  "language_info": {
   "codemirror_mode": {
    "name": "ipython",
    "version": 3
   },
   "file_extension": ".py",
   "mimetype": "text/x-python",
   "name": "python",
   "nbconvert_exporter": "python",
   "pygments_lexer": "ipython3",
   "version": "3.7.3"
  }
 },
 "nbformat": 4,
 "nbformat_minor": 2
}
