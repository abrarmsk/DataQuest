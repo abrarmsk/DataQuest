{
 "cells": [
  {
   "cell_type": "code",
   "execution_count": 1,
   "metadata": {},
   "outputs": [
    {
     "name": "stdout",
     "output_type": "stream",
     "text": [
      "Hello, Jupyter!\n"
     ]
    }
   ],
   "source": [
    "welcome_message = 'Hello, Jupyter!'\n",
    "first_cell = True\n",
    "\n",
    "if first_cell:\n",
    "    print(welcome_message)"
   ]
  },
  {
   "cell_type": "code",
   "execution_count": 2,
   "metadata": {},
   "outputs": [
    {
     "name": "stdout",
     "output_type": "stream",
     "text": [
      "240.0\n"
     ]
    }
   ],
   "source": [
    "result = 1200 / 5\n",
    "second_cell = True\n",
    "\n",
    "if second_cell:\n",
    "    print(result)"
   ]
  },
  {
   "cell_type": "code",
   "execution_count": 3,
   "metadata": {},
   "outputs": [
    {
     "name": "stdout",
     "output_type": "stream",
     "text": [
      "Hello, Jupyter!\n",
      "First cell\n"
     ]
    }
   ],
   "source": [
    "\n",
    "welcome_message = 'Hello, Jupyter!'\n",
    "first_cell = True\n",
    "\n",
    "if first_cell:\n",
    "    print(welcome_message)\n",
    "    \n",
    "print('First cell')"
   ]
  },
  {
   "cell_type": "code",
   "execution_count": 4,
   "metadata": {},
   "outputs": [
    {
     "name": "stdout",
     "output_type": "stream",
     "text": [
      "Second cell\n"
     ]
    }
   ],
   "source": [
    "print('Second cell')"
   ]
  },
  {
   "cell_type": "code",
   "execution_count": 5,
   "metadata": {},
   "outputs": [
    {
     "name": "stdout",
     "output_type": "stream",
     "text": [
      "240.0\n",
      "Third cell\n"
     ]
    }
   ],
   "source": [
    "result = 1200 / 5\n",
    "second_cell = True\n",
    "\n",
    "if second_cell:\n",
    "    print(result)\n",
    "    \n",
    "print('Third cell')"
   ]
  },
  {
   "cell_type": "code",
   "execution_count": 6,
   "metadata": {},
   "outputs": [
    {
     "name": "stdout",
     "output_type": "stream",
     "text": [
      "Hello, Jupyter!\n",
      "First cell\n"
     ]
    }
   ],
   "source": [
    "welcome_message = 'Hello, Jupyter!'\n",
    "first_cell = True\n",
    "\n",
    "if first_cell:\n",
    "    print(welcome_message)\n",
    "    \n",
    "print('First cell')"
   ]
  },
  {
   "cell_type": "code",
   "execution_count": 7,
   "metadata": {},
   "outputs": [
    {
     "name": "stdout",
     "output_type": "stream",
     "text": [
      "240.0\n",
      "Second cell\n"
     ]
    }
   ],
   "source": [
    "result = 1200 / 5\n",
    "second_cell = True\n",
    "\n",
    "if second_cell:\n",
    "    print(result)\n",
    "    \n",
    "print('Second cell')"
   ]
  },
  {
   "cell_type": "code",
   "execution_count": 8,
   "metadata": {},
   "outputs": [
    {
     "name": "stdout",
     "output_type": "stream",
     "text": [
      "A true third cell\n"
     ]
    }
   ],
   "source": [
    "print('A true third cell')"
   ]
  },
  {
   "cell_type": "code",
   "execution_count": 9,
   "metadata": {},
   "outputs": [],
   "source": [
    "def welcome(a_string):\n",
    "    print('Welcome to ' + a_string + '!')\n",
    "    \n",
    "dq = 'Dataquest'\n",
    "jn = 'Jupyter Notebook'\n",
    "py = 'Python'"
   ]
  },
  {
   "cell_type": "code",
   "execution_count": 10,
   "metadata": {},
   "outputs": [
    {
     "name": "stdout",
     "output_type": "stream",
     "text": [
      "Welcome to Dataquest!\n",
      "Welcome to Jupyter Notebook!\n",
      "Welcome to Python!\n"
     ]
    }
   ],
   "source": [
    "welcome(dq)\n",
    "welcome(jn)\n",
    "welcome(py)"
   ]
  },
  {
   "cell_type": "code",
   "execution_count": 11,
   "metadata": {},
   "outputs": [
    {
     "name": "stdout",
     "output_type": "stream",
     "text": [
      ">>> welcome_message = 'Hello, Jupyter!'\n",
      "... first_cell = True\n",
      "... \n",
      "... if first_cell:\n",
      "...     print(welcome_message)\n",
      "...\n",
      ">>> result = 1200 / 5\n",
      "... second_cell = True\n",
      "... \n",
      "... if second_cell:\n",
      "...     print(result)\n",
      "...\n",
      ">>> \n",
      "... welcome_message = 'Hello, Jupyter!'\n",
      "... first_cell = True\n",
      "... \n",
      "... if first_cell:\n",
      "...     print(welcome_message)\n",
      "...     \n",
      "... print('First cell')\n",
      "...\n",
      ">>> print('Second cell')\n",
      ">>> result = 1200 / 5\n",
      "... second_cell = True\n",
      "... \n",
      "... if second_cell:\n",
      "...     print(result)\n",
      "...     \n",
      "... print('Third cell')\n",
      "...\n",
      ">>> welcome_message = 'Hello, Jupyter!'\n",
      "... first_cell = True\n",
      "... \n",
      "... if first_cell:\n",
      "...     print(welcome_message)\n",
      "...     \n",
      "... print('First cell')\n",
      "...\n",
      ">>> result = 1200 / 5\n",
      "... second_cell = True\n",
      "... \n",
      "... if second_cell:\n",
      "...     print(result)\n",
      "...     \n",
      "... print('Second cell')\n",
      "...\n",
      ">>> print('A true third cell')\n",
      ">>> def welcome(a_string):\n",
      "...     print('Welcome to ' + a_string + '!')\n",
      "...     \n",
      "... dq = 'Dataquest'\n",
      "... jn = 'Jupyter Notebook'\n",
      "... py = 'Python'\n",
      "...\n",
      ">>> welcome(dq)\n",
      "... welcome(jn)\n",
      "... welcome(py)\n",
      "...\n",
      ">>> %history -p\n"
     ]
    }
   ],
   "source": [
    "%history -p"
   ]
  },
  {
   "cell_type": "code",
   "execution_count": 12,
   "metadata": {},
   "outputs": [],
   "source": [
    "##Restart Kernal and then\n",
    "## run the code below"
   ]
  },
  {
   "cell_type": "code",
   "execution_count": 13,
   "metadata": {},
   "outputs": [
    {
     "name": "stdout",
     "output_type": "stream",
     "text": [
      ">>> welcome_message = 'Hello, Jupyter!'\n",
      "... first_cell = True\n",
      "... \n",
      "... if first_cell:\n",
      "...     print(welcome_message)\n",
      "...\n",
      ">>> result = 1200 / 5\n",
      "... second_cell = True\n",
      "... \n",
      "... if second_cell:\n",
      "...     print(result)\n",
      "...\n",
      ">>> \n",
      "... welcome_message = 'Hello, Jupyter!'\n",
      "... first_cell = True\n",
      "... \n",
      "... if first_cell:\n",
      "...     print(welcome_message)\n",
      "...     \n",
      "... print('First cell')\n",
      "...\n",
      ">>> print('Second cell')\n",
      ">>> result = 1200 / 5\n",
      "... second_cell = True\n",
      "... \n",
      "... if second_cell:\n",
      "...     print(result)\n",
      "...     \n",
      "... print('Third cell')\n",
      "...\n",
      ">>> welcome_message = 'Hello, Jupyter!'\n",
      "... first_cell = True\n",
      "... \n",
      "... if first_cell:\n",
      "...     print(welcome_message)\n",
      "...     \n",
      "... print('First cell')\n",
      "...\n",
      ">>> result = 1200 / 5\n",
      "... second_cell = True\n",
      "... \n",
      "... if second_cell:\n",
      "...     print(result)\n",
      "...     \n",
      "... print('Second cell')\n",
      "...\n",
      ">>> print('A true third cell')\n",
      ">>> def welcome(a_string):\n",
      "...     print('Welcome to ' + a_string + '!')\n",
      "...     \n",
      "... dq = 'Dataquest'\n",
      "... jn = 'Jupyter Notebook'\n",
      "... py = 'Python'\n",
      "...\n",
      ">>> welcome(dq)\n",
      "... welcome(jn)\n",
      "... welcome(py)\n",
      "...\n",
      ">>> %history -p\n",
      ">>> ##Restart Kernal and then\n",
      "... ## run the code below\n",
      "...\n",
      ">>> %history -p\n"
     ]
    }
   ],
   "source": [
    "%history -p"
   ]
  },
  {
   "cell_type": "code",
   "execution_count": 14,
   "metadata": {},
   "outputs": [],
   "source": [
    "def welcome(a_string):\n",
    "    welcome_msg = 'Welcome to ' + a_string + '!'\n",
    "    return welcome_msg\n",
    "\n",
    "dq = 'Dataquest'\n",
    "jn = 'Jupyter Notebook'\n"
   ]
  },
  {
   "cell_type": "code",
   "execution_count": 15,
   "metadata": {},
   "outputs": [
    {
     "data": {
      "text/plain": [
       "'Welcome to Python!'"
      ]
     },
     "execution_count": 15,
     "metadata": {},
     "output_type": "execute_result"
    }
   ],
   "source": [
    "welcome(dq)\n",
    "welcome(jn)\n",
    "welcome(py)"
   ]
  },
  {
   "cell_type": "code",
   "execution_count": 16,
   "metadata": {},
   "outputs": [
    {
     "name": "stdout",
     "output_type": "stream",
     "text": [
      ">>> welcome_message = 'Hello, Jupyter!'\n",
      "... first_cell = True\n",
      "... \n",
      "... if first_cell:\n",
      "...     print(welcome_message)\n",
      "...\n",
      ">>> result = 1200 / 5\n",
      "... second_cell = True\n",
      "... \n",
      "... if second_cell:\n",
      "...     print(result)\n",
      "...\n",
      ">>> \n",
      "... welcome_message = 'Hello, Jupyter!'\n",
      "... first_cell = True\n",
      "... \n",
      "... if first_cell:\n",
      "...     print(welcome_message)\n",
      "...     \n",
      "... print('First cell')\n",
      "...\n",
      ">>> print('Second cell')\n",
      ">>> result = 1200 / 5\n",
      "... second_cell = True\n",
      "... \n",
      "... if second_cell:\n",
      "...     print(result)\n",
      "...     \n",
      "... print('Third cell')\n",
      "...\n",
      ">>> welcome_message = 'Hello, Jupyter!'\n",
      "... first_cell = True\n",
      "... \n",
      "... if first_cell:\n",
      "...     print(welcome_message)\n",
      "...     \n",
      "... print('First cell')\n",
      "...\n",
      ">>> result = 1200 / 5\n",
      "... second_cell = True\n",
      "... \n",
      "... if second_cell:\n",
      "...     print(result)\n",
      "...     \n",
      "... print('Second cell')\n",
      "...\n",
      ">>> print('A true third cell')\n",
      ">>> def welcome(a_string):\n",
      "...     print('Welcome to ' + a_string + '!')\n",
      "...     \n",
      "... dq = 'Dataquest'\n",
      "... jn = 'Jupyter Notebook'\n",
      "... py = 'Python'\n",
      "...\n",
      ">>> welcome(dq)\n",
      "... welcome(jn)\n",
      "... welcome(py)\n",
      "...\n",
      ">>> %history -p\n",
      ">>> ##Restart Kernal and then\n",
      "... ## run the code below\n",
      "...\n",
      ">>> %history -p\n",
      ">>> def welcome(a_string):\n",
      "...     welcome_msg = 'Welcome to ' + a_string + '!'\n",
      "...     return welcome_msg\n",
      "... \n",
      "... dq = 'Dataquest'\n",
      "... jn = 'Jupyter Notebook'\n",
      "...\n",
      ">>> welcome(dq)\n",
      "... welcome(jn)\n",
      "... welcome(py)\n",
      "...\n",
      ">>> %history -p\n"
     ]
    }
   ],
   "source": [
    "%history -p"
   ]
  },
  {
   "cell_type": "code",
   "execution_count": 17,
   "metadata": {},
   "outputs": [
    {
     "data": {
      "text/plain": [
       "'Welcome to Python!'"
      ]
     },
     "execution_count": 17,
     "metadata": {},
     "output_type": "execute_result"
    }
   ],
   "source": [
    "welcome(dq)\n",
    "welcome(jn)\n",
    "welcome(py)"
   ]
  },
  {
   "cell_type": "code",
   "execution_count": 18,
   "metadata": {},
   "outputs": [],
   "source": [
    "## The above resulted by clicking\n",
    "## Restart & Run All in the Kernel menu"
   ]
  },
  {
   "cell_type": "code",
   "execution_count": 20,
   "metadata": {},
   "outputs": [
    {
     "data": {
      "text/plain": [
       "[['id',\n",
       "  'track_name',\n",
       "  'size_bytes',\n",
       "  'currency',\n",
       "  'price',\n",
       "  'rating_count_tot',\n",
       "  'rating_count_ver',\n",
       "  'user_rating',\n",
       "  'user_rating_ver',\n",
       "  'ver',\n",
       "  'cont_rating',\n",
       "  'prime_genre',\n",
       "  'sup_devices.num',\n",
       "  'ipadSc_urls.num',\n",
       "  'lang.num',\n",
       "  'vpp_lic'],\n",
       " ['284882215',\n",
       "  'Facebook',\n",
       "  '389879808',\n",
       "  'USD',\n",
       "  '0.0',\n",
       "  '2974676',\n",
       "  '212',\n",
       "  '3.5',\n",
       "  '3.5',\n",
       "  '95.0',\n",
       "  '4+',\n",
       "  'Social Networking',\n",
       "  '37',\n",
       "  '1',\n",
       "  '29',\n",
       "  '1'],\n",
       " ['389801252',\n",
       "  'Instagram',\n",
       "  '113954816',\n",
       "  'USD',\n",
       "  '0.0',\n",
       "  '2161558',\n",
       "  '1289',\n",
       "  '4.5',\n",
       "  '4.0',\n",
       "  '10.23',\n",
       "  '12+',\n",
       "  'Photo & Video',\n",
       "  '37',\n",
       "  '0',\n",
       "  '29',\n",
       "  '1'],\n",
       " ['529479190',\n",
       "  'Clash of Clans',\n",
       "  '116476928',\n",
       "  'USD',\n",
       "  '0.0',\n",
       "  '2130805',\n",
       "  '579',\n",
       "  '4.5',\n",
       "  '4.5',\n",
       "  '9.24.12',\n",
       "  '9+',\n",
       "  'Games',\n",
       "  '38',\n",
       "  '5',\n",
       "  '18',\n",
       "  '1']]"
      ]
     },
     "execution_count": 20,
     "metadata": {},
     "output_type": "execute_result"
    }
   ],
   "source": [
    "opened_file = open('AppleStore.csv')\n",
    "from csv import reader\n",
    "read_file = reader(opened_file)\n",
    "apps_data = list(read_file)\n",
    "apps_data[:4]"
   ]
  },
  {
   "cell_type": "code",
   "execution_count": 21,
   "metadata": {},
   "outputs": [],
   "source": [
    "## I used the cloud on DataQuest to open the dataset\n",
    "# NOT my local machine like other exercise "
   ]
  },
  {
   "cell_type": "code",
   "execution_count": null,
   "metadata": {},
   "outputs": [],
   "source": []
  }
 ],
 "metadata": {
  "kernelspec": {
   "display_name": "Python 3",
   "language": "python",
   "name": "python3"
  },
  "language_info": {
   "codemirror_mode": {
    "name": "ipython",
    "version": 3
   },
   "file_extension": ".py",
   "mimetype": "text/x-python",
   "name": "python",
   "nbconvert_exporter": "python",
   "pygments_lexer": "ipython3",
   "version": "3.8.2"
  }
 },
 "nbformat": 4,
 "nbformat_minor": 2
}
